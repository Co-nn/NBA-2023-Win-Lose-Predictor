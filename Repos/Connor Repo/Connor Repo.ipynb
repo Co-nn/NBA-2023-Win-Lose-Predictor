{
 "cells": [
  {
   "cell_type": "code",
   "execution_count": null,
   "metadata": {},
   "outputs": [],
   "source": [
    "import pandas as pd\n",
    "import requests\n",
    "from bs4 import BeautifulSoup\n"
   ]
  },
  {
   "cell_type": "code",
   "execution_count": null,
   "metadata": {},
   "outputs": [],
   "source": [
    "win_loss_df = pd.read_excel(\"../../Data/NBA Win-Loss.xlsx\")"
   ]
  },
  {
   "cell_type": "code",
   "execution_count": null,
   "metadata": {},
   "outputs": [],
   "source": []
  },
  {
   "cell_type": "code",
   "execution_count": null,
   "metadata": {},
   "outputs": [],
   "source": [
    "positions = [\n",
    "    \"power-forward\",\n",
    "    \"point-guard\",\n",
    "    \"shooting-guard\",\n",
    "    \"small-forward\",\n",
    "    \"center\"\n",
    "]\n",
    "years = [str(x) for x in range(2001,2023)]\n",
    "teams = [\n",
    "    \"ATL\",\n",
    "    \"BOS\",\n",
    "    \"WAS\",\n",
    "    \"UTA\",\n",
    "    \"TOR\",\n",
    "    \"SAS\",\n",
    "    \"SAC\",\n",
    "    \"POR\",\n",
    "    \"PHO\",\n",
    "    \"PHI\",\n",
    "    \"ORL\",\n",
    "    \"OKC\",\n",
    "    \"NYK\",\n",
    "    \"NOH\",\n",
    "    \"MIN\",\n",
    "    \"MIL\",\n",
    "    \"MIA\",\n",
    "    \"MEM\",\n",
    "    \"LAL\",\n",
    "    \"LAC\",\n",
    "    \"IND\",\n",
    "    \"HOU\",\n",
    "    \"GSW\",\n",
    "    \"DET\",\n",
    "    \"DEN\",\n",
    "    \"DAL\",\n",
    "    \"CLE\",\n",
    "    \"CHI\",\n",
    "    \"CHA\",\n",
    "    \"NJN\"\n",
    "]"
   ]
  },
  {
   "cell_type": "code",
   "execution_count": null,
   "metadata": {},
   "outputs": [],
   "source": [
    "len(teams)"
   ]
  },
  {
   "cell_type": "code",
   "execution_count": null,
   "metadata": {},
   "outputs": [],
   "source": [
    "!pip install selenium\n"
   ]
  },
  {
   "cell_type": "code",
   "execution_count": null,
   "metadata": {},
   "outputs": [],
   "source": [
    "import selenium\n",
    "from selenium import webdriver\n",
    "import time"
   ]
  },
  {
   "cell_type": "code",
   "execution_count": null,
   "metadata": {},
   "outputs": [],
   "source": [
    "# year_position1 = {}\n",
    "# link = \"https://www.espn.com/nba/stats/player/_/season/2001/seasontype/2/position/center\"\n",
    "# driver = webdriver.Chrome(executable_path=\"C:\\chromedriver.exe\")\n",
    "# driver.maximize_window()\n",
    "# driver.get(link)\n",
    "# driver.refresh()\n",
    "# time.sleep(.5)\n",
    "# driver.find_element(\"link text\", \"Show More\").click()\n",
    "# time.sleep(.5)\n",
    "# try:\n",
    "#     driver.find_element(\"link text\", \"Show More\").click()\n",
    "#     time.sleep(.5)\n",
    "# except:\n",
    "#     pass\n",
    "# soup = BeautifulSoup(driver.page_source)\n",
    "# table_name = soup.find(\"table\", class_ = \"Table Table--align-right Table--fixed Table--fixed-left\")\n",
    "# table_stats = soup.find(\"table\", class_ = \"Table Table--align-right\")\n",
    "# year_position1[(\"2000\",\"center\")] = pd.read_html(table_name.prettify())[0].join(pd.read_html(table_stats.prettify())[0]).drop(columns=['POS', 'GP', 'MIN', 'PTS', 'FGM', 'FGA', 'FG%', '3PM','3PA', '3P%', 'FTM', 'FTA', 'FT%', 'REB', 'AST', 'STL', 'BLK', 'TO', 'DD2', 'TD3', 'PER'])\n",
    "# year_position1[(\"2000\",\"center\")]"
   ]
  },
  {
   "cell_type": "code",
   "execution_count": null,
   "metadata": {},
   "outputs": [],
   "source": [
    "# years = [str(x) for x in range(2014,2023)]"
   ]
  },
  {
   "cell_type": "code",
   "execution_count": null,
   "metadata": {},
   "outputs": [],
   "source": [
    "year_position = {}\n",
    "for year in years:\n",
    "    for position in positions:\n",
    "        link = \"https://www.espn.com/nba/stats/player/_/season/\"+ year +\"/seasontype/2/position/\" + position\n",
    "        print(link)\n",
    "        driver = webdriver.Chrome(executable_path=\"C:\\chromedriver.exe\")\n",
    "        driver.maximize_window()\n",
    "        driver.get(link)\n",
    "        driver.refresh()\n",
    "        time.sleep(2)\n",
    "        try:\n",
    "            driver.find_element(\"link text\", \"Show More\").click()\n",
    "            time.sleep(2)\n",
    "        except:\n",
    "            pass\n",
    "        try:\n",
    "            driver.find_element(\"link text\", \"Show More\").click()\n",
    "            time.sleep(2)\n",
    "        except:\n",
    "            pass\n",
    "        try:\n",
    "            driver.find_element(\"link text\", \"Show More\").click()\n",
    "            time.sleep(2)\n",
    "        except:\n",
    "            pass\n",
    "        try:\n",
    "            driver.find_element(\"link text\", \"Show More\").click()\n",
    "            time.sleep(2)\n",
    "        except:\n",
    "            pass\n",
    "        soup = BeautifulSoup(driver.page_source)\n",
    "        table_name = soup.find(\"table\", class_ = \"Table Table--align-right Table--fixed Table--fixed-left\")\n",
    "        table_stats = soup.find(\"table\", class_ = \"Table Table--align-right\")\n",
    "        year_position[(year,position)] = pd.read_html(table_name.prettify())[0].join(pd.read_html(table_stats.prettify())[0]).drop(columns=['POS', 'GP', 'MIN', 'PTS', 'FGM', 'FGA', 'FG%', '3PM','3PA', '3P%', 'FTM', 'FTA', 'FT%', 'REB', 'AST', 'STL', 'BLK', 'TO', 'DD2', 'TD3', 'PER'])"
   ]
  },
  {
   "cell_type": "code",
   "execution_count": null,
   "metadata": {},
   "outputs": [],
   "source": [
    "year_team = {}\n",
    "for year in years:\n",
    "    for team in teams:\n",
    "        if team == \"OKC\" and year in [str(x) for x in range(2001,2009)]:\n",
    "            team1 = \"SEA\"\n",
    "            link = \"https://www.basketball-reference.com/teams/\" + team1 + \"/\" + year + \".html\"\n",
    "            print(link)\n",
    "            resp = requests.get(link)\n",
    "            soup = BeautifulSoup(resp.text)\n",
    "            table = soup.find(\"table\")\n",
    "            year_team[(year,team1)] = pd.read_html(table.prettify())[0].drop(columns=['No.', 'Ht', 'Wt', 'Birth Date', 'Unnamed: 6', 'College'])\n",
    "        elif team == \"NOH\" and year not in [\"2003\", \"2004\", \"2005\", \"2008\", \"2009\", \"2010\", \"2011\", \"2012\", \"2013\"]:\n",
    "            if year in [\"2001\", \"2002\"]:\n",
    "                year_team[(year,team)] = \"Null\"\n",
    "            elif year in [\"2006\", \"2007\"]:\n",
    "                team1 = \"NOK\"\n",
    "                link = \"https://www.basketball-reference.com/teams/\" + team1 + \"/\" + year + \".html\"\n",
    "                print(link)\n",
    "                resp = requests.get(link)\n",
    "                soup = BeautifulSoup(resp.text)\n",
    "                table = soup.find(\"table\")\n",
    "                year_team[(year,team1)] = pd.read_html(table.prettify())[0].drop(columns=['No.', 'Ht', 'Wt', 'Birth Date', 'Unnamed: 6', 'College'])\n",
    "            else:\n",
    "                team1 = \"NOP\"\n",
    "                link = \"https://www.basketball-reference.com/teams/\" + team1 + \"/\" + year + \".html\"\n",
    "                print(link)\n",
    "                resp = requests.get(link)\n",
    "                soup = BeautifulSoup(resp.text)\n",
    "                table = soup.find(\"table\")\n",
    "                year_team[(year,team1)] = pd.read_html(table.prettify())[0].drop(columns=['No.', 'Ht', 'Wt', 'Birth Date', 'Unnamed: 6', 'College'])\n",
    "        elif team == \"MEM\" and year == \"2001\":\n",
    "            team1 = \"VAN\"\n",
    "            link = \"https://www.basketball-reference.com/teams/\" + team1 + \"/\" + year + \".html\"\n",
    "            print(link)\n",
    "            resp = requests.get(link)\n",
    "            soup = BeautifulSoup(resp.text)\n",
    "            table = soup.find(\"table\")\n",
    "            year_team[(year,team1)] = pd.read_html(table.prettify())[0].drop(columns=['No.', 'Ht', 'Wt', 'Birth Date', 'Unnamed: 6', 'College'])\n",
    "        elif team == \"CHA\" and (year in [\"2001\", \"2002\", \"2003\", \"2004\"] or year in [str(x) for x in range(2015,2023)]):\n",
    "            if year in [str(x) for x in range(2015,2023)]:\n",
    "                team1 = \"CHO\"\n",
    "                link = \"https://www.basketball-reference.com/teams/\" + team1 + \"/\" + year + \".html\"\n",
    "                print(link)\n",
    "                resp = requests.get(link)\n",
    "                soup = BeautifulSoup(resp.text)\n",
    "                table = soup.find(\"table\")\n",
    "                year_team[(year,team1)] = pd.read_html(table.prettify())[0].drop(columns=['No.', 'Ht', 'Wt', 'Birth Date', 'Unnamed: 6', 'College'])\n",
    "            elif year in [\"2001\", \"2002\"]:\n",
    "                team1 = \"CHH\"\n",
    "                link = \"https://www.basketball-reference.com/teams/\" + team1 + \"/\" + year + \".html\"\n",
    "                print(link)\n",
    "                resp = requests.get(link)\n",
    "                soup = BeautifulSoup(resp.text)\n",
    "                table = soup.find(\"table\")\n",
    "                year_team[(year,team1)] = pd.read_html(table.prettify())[0].drop(columns=['No.', 'Ht', 'Wt', 'Birth Date', 'Unnamed: 6', 'College'])\n",
    "            else:\n",
    "                year_team[(year,team)] = \"Null\"\n",
    "        elif team == \"NJN\" and year in [str(x) for x in range(2013,2023)]:\n",
    "            team1 = \"BRK\"\n",
    "            link = \"https://www.basketball-reference.com/teams/\" + team1 + \"/\" + year + \".html\"\n",
    "            print(link)\n",
    "            resp = requests.get(link)\n",
    "            soup = BeautifulSoup(resp.text)\n",
    "            table = soup.find(\"table\")\n",
    "            year_team[(year,team1)] = pd.read_html(table.prettify())[0].drop(columns=['No.', 'Ht', 'Wt', 'Birth Date', 'Unnamed: 6', 'College'])\n",
    "        else:\n",
    "            link = \"https://www.basketball-reference.com/teams/\" + team + \"/\" + year + \".html\"\n",
    "            print(link)\n",
    "            resp = requests.get(link)\n",
    "            soup = BeautifulSoup(resp.text)\n",
    "            table = soup.find(\"table\")\n",
    "            year_team[(year,team)] = pd.read_html(table.prettify())[0].drop(columns=['No.', 'Ht', 'Wt', 'Birth Date', 'Unnamed: 6', 'College'])\n",
    "        \n",
    "        time.sleep(.1)"
   ]
  },
  {
   "cell_type": "code",
   "execution_count": null,
   "metadata": {},
   "outputs": [],
   "source": [
    "for year in years:\n",
    "    for pos in positions:\n",
    "        for row in year_position[(year,pos)].index:\n",
    "            year_position[(year,pos)][\"Name\"][row] = year_position[(year,pos)][\"Name\"].str.split(\" \")[row][0]+\" \"+year_position[(year,pos)][\"Name\"].str.split(\" \")[row][1]\n",
    "\n",
    "\n",
    "            "
   ]
  },
  {
   "cell_type": "code",
   "execution_count": null,
   "metadata": {},
   "outputs": [],
   "source": [
    "# year_team[(\"2002\",\"NJN\")]"
   ]
  },
  {
   "cell_type": "code",
   "execution_count": null,
   "metadata": {},
   "outputs": [],
   "source": [
    "# year_position[(\"2002\",\"point-guard\")]"
   ]
  },
  {
   "cell_type": "code",
   "execution_count": null,
   "metadata": {},
   "outputs": [],
   "source": [
    "\n"
   ]
  },
  {
   "cell_type": "code",
   "execution_count": null,
   "metadata": {},
   "outputs": [],
   "source": []
  },
  {
   "cell_type": "code",
   "execution_count": null,
   "metadata": {},
   "outputs": [],
   "source": []
  },
  {
   "cell_type": "code",
   "execution_count": null,
   "metadata": {},
   "outputs": [],
   "source": [
    "for year in years:\n",
    "    for team in teams:\n",
    "        if team == \"OKC\" and year in [str(x) for x in range(2001,2009)]:\n",
    "            team1 = \"SEA\"\n",
    "            year_team[(year,team1)][\"rank\"] = \"Null\"\n",
    "        elif team == \"NOH\" and year not in [\"2003\", \"2004\", \"2005\", \"2008\", \"2009\", \"2010\", \"2011\", \"2012\", \"2013\"]:\n",
    "            try:\n",
    "                if year in [\"2006\", \"2007\"]:\n",
    "                    team1 = \"NOK\"\n",
    "                    year_team[(year,team1)][\"rank\"] = \"Null\"\n",
    "                else:\n",
    "                    team1 = \"NOP\"\n",
    "                    year_team[(year,team1)][\"rank\"] = \"Null\"\n",
    "            except:\n",
    "                pass\n",
    "        \n",
    "        elif team == \"MEM\" and year == \"2001\":\n",
    "            team1 = \"VAN\"\n",
    "            year_team[(year,team1)][\"rank\"] = \"Null\"\n",
    "        elif team == \"CHA\" and (year in [\"2001\", \"2002\", \"2003\", \"2004\"] or year in [str(x) for x in range(2015,2023)]):\n",
    "            try:\n",
    "                if year in [str(x) for x in range(2015,2023)]:\n",
    "                    team1 = \"CHO\"\n",
    "                    year_team[(year,team1)][\"rank\"] = \"Null\"\n",
    "            except:\n",
    "                pass  \n",
    "            try:\n",
    "                if year in [\"2001\", \"2002\"]:\n",
    "                    team1 = \"CHH\"\n",
    "                    year_team[(year,team1)][\"rank\"] = \"Null\"\n",
    "            except:\n",
    "                pass\n",
    "        elif team == \"NJN\" and year in [str(x) for x in range(2013,2023)]:\n",
    "            team1 = \"BRK\"\n",
    "            year_team[(year,team1)][\"rank\"] = \"Null\"\n",
    "        else:\n",
    "            year_team[(year,team)][\"rank\"] = \"Null\""
   ]
  },
  {
   "cell_type": "code",
   "execution_count": null,
   "metadata": {},
   "outputs": [],
   "source": []
  },
  {
   "cell_type": "code",
   "execution_count": null,
   "metadata": {},
   "outputs": [],
   "source": [
    "for year in years:\n",
    "    for team in teams:\n",
    "        if team == \"OKC\" and year in [str(x) for x in range(2001,2009)]:\n",
    "            team1 = \"SEA\"\n",
    "            for row_team in year_team[(year,team1)].index:\n",
    "                player = year_team[(year,team1)][\"Player\"][row_team]\n",
    "                for position in positions:\n",
    "                    for row_pos in year_position[(year,position)].index:\n",
    "                        if year_position[(year,position)][\"Name\"][row_pos] == player:\n",
    "                            year_team[(year,team1)][\"rank\"][row_team] = year_position[(year,position)][\"RK\"][row_pos]\n",
    "                            year_team[(year,team1)][\"Pos\"][row_team] = position   \n",
    "        elif team == \"NOH\" and year not in [\"2003\", \"2004\", \"2005\", \"2008\", \"2009\", \"2010\", \"2011\", \"2012\", \"2013\"]:\n",
    "            try:\n",
    "                if year in [\"2006\", \"2007\"]:\n",
    "                    team1 = \"NOK\"\n",
    "                    for row_team in year_team[(year,team1)].index:\n",
    "                        player = year_team[(year,team1)][\"Player\"][row_team]\n",
    "                        for position in positions:\n",
    "                            for row_pos in year_position[(year,position)].index:\n",
    "                                if year_position[(year,position)][\"Name\"][row_pos] == player:\n",
    "                                    year_team[(year,team1)][\"rank\"][row_team] = year_position[(year,position)][\"RK\"][row_pos]\n",
    "                                    year_team[(year,team1)][\"Pos\"][row_team] = position\n",
    "                else:\n",
    "                    team1 = \"NOP\"\n",
    "                    for row_team in year_team[(year,team1)].index:\n",
    "                        player = year_team[(year,team1)][\"Player\"][row_team]\n",
    "                        for position in positions:\n",
    "                            for row_pos in year_position[(year,position)].index:\n",
    "                                if year_position[(year,position)][\"Name\"][row_pos] == player:\n",
    "                                    year_team[(year,team1)][\"rank\"][row_team] = year_position[(year,position)][\"RK\"][row_pos]\n",
    "                                    year_team[(year,team1)][\"Pos\"][row_team] = position\n",
    "            except:\n",
    "                continue\n",
    "        elif team == \"MEM\" and year == \"2001\":\n",
    "            team1 = \"VAN\"\n",
    "            for row_team in year_team[(year,team1)].index:\n",
    "                player = year_team[(year,team1)][\"Player\"][row_team]\n",
    "                for position in positions:\n",
    "                    for row_pos in year_position[(year,position)].index:\n",
    "                        if year_position[(year,position)][\"Name\"][row_pos] == player:\n",
    "                            year_team[(year,team1)][\"rank\"][row_team] = year_position[(year,position)][\"RK\"][row_pos]\n",
    "                            year_team[(year,team1)][\"Pos\"][row_team] = position  \n",
    "        elif team == \"CHA\" and (year in [\"2001\", \"2002\", \"2003\", \"2004\"] or year in [str(x) for x in range(2015,2023)]):\n",
    "            try:\n",
    "                if year in [str(x) for x in range(2015,2023)]:\n",
    "                    team1 = \"CHO\"\n",
    "                    for row_team in year_team[(year,team1)].index:\n",
    "                        player = year_team[(year,team1)][\"Player\"][row_team]\n",
    "                        for position in positions:\n",
    "                            for row_pos in year_position[(year,position)].index:\n",
    "                                if year_position[(year,position)][\"Name\"][row_pos] == player:\n",
    "                                    year_team[(year,team1)][\"rank\"][row_team] = year_position[(year,position)][\"RK\"][row_pos]\n",
    "                                    year_team[(year,team1)][\"Pos\"][row_team] = position\n",
    "            except:\n",
    "                continue\n",
    "            try:\n",
    "                if year in [\"2001\", \"2002\"]:\n",
    "                    team1 = \"CHH\"\n",
    "                    for row_team in year_team[(year,team1)].index:\n",
    "                        player = year_team[(year,team1)][\"Player\"][row_team]\n",
    "                        for position in positions:\n",
    "                            for row_pos in year_position[(year,position)].index:\n",
    "                                if year_position[(year,position)][\"Name\"][row_pos] == player:\n",
    "                                    year_team[(year,team1)][\"rank\"][row_team] = year_position[(year,position)][\"RK\"][row_pos]\n",
    "                                    year_team[(year,team1)][\"Pos\"][row_team] = position\n",
    "            except:\n",
    "                pass\n",
    "                \n",
    "        elif team == \"NJN\" and year in [str(x) for x in range(2013,2023)]:\n",
    "            team1 = \"BRK\"\n",
    "            for row_team in year_team[(year,team1)].index:\n",
    "                player = year_team[(year,team1)][\"Player\"][row_team]\n",
    "                for position in positions:\n",
    "                    for row_pos in year_position[(year,position)].index:\n",
    "                        if year_position[(year,position)][\"Name\"][row_pos] == player:\n",
    "                            year_team[(year,team1)][\"rank\"][row_team] = year_position[(year,position)][\"RK\"][row_pos]\n",
    "                            year_team[(year,team1)][\"Pos\"][row_team] = position\n",
    "        else:\n",
    "            for row_team in year_team[(year,team)].index:\n",
    "                player = year_team[(year,team)][\"Player\"][row_team]\n",
    "                for position in positions:\n",
    "                    for row_pos in year_position[(year,position)].index:\n",
    "                        if year_position[(year,position)][\"Name\"][row_pos] == player:\n",
    "                            year_team[(year,team)][\"rank\"][row_team] = year_position[(year,position)][\"RK\"][row_pos]\n",
    "                            year_team[(year,team)][\"Pos\"][row_team] = position"
   ]
  },
  {
   "cell_type": "code",
   "execution_count": null,
   "metadata": {},
   "outputs": [],
   "source": []
  },
  {
   "cell_type": "code",
   "execution_count": null,
   "metadata": {},
   "outputs": [],
   "source": [
    "# year_position[(\"2001\",\"shooting-guard\")]\n",
    "# year_position[(\"2005\",\"center\")]"
   ]
  },
  {
   "cell_type": "code",
   "execution_count": null,
   "metadata": {},
   "outputs": [],
   "source": [
    "# year_team[(\"2001\",\"LAL\")]"
   ]
  },
  {
   "cell_type": "code",
   "execution_count": null,
   "metadata": {},
   "outputs": [],
   "source": [
    "col_name = [\n",
    "    \"team1-1-power-forward\",\n",
    "    \"team1-1-point-guard\",\n",
    "    \"team1-1-shooting-guard\",\n",
    "    \"team1-1-small-forward\",\n",
    "    \"team1-1-center\",\n",
    "\n",
    "    \"team1-1-power-forward-exp\",\n",
    "    \"team1-1-point-guard-exp\",\n",
    "    \"team1-1-shooting-guard-exp\",\n",
    "    \"team1-1-small-forward-exp\",\n",
    "    \"team1-1-center-exp\",\n",
    "\n",
    "    \"team1-2-power-forward\",\n",
    "    \"team1-2-point-guard\",\n",
    "    \"team1-2-shooting-guard\",\n",
    "    \"team1-2-small-forward\",\n",
    "    \"team1-2-center\",\n",
    "\n",
    "    \"team1-2-power-forward-exp\",\n",
    "    \"team1-2-point-guard-exp\",\n",
    "    \"team1-2-shooting-guard-exp\",\n",
    "    \"team1-2-small-forward-exp\",\n",
    "    \"team1-2-center-exp\",\n",
    "\n",
    "    \"team2-1-power-forward\",\n",
    "    \"team2-1-point-guard\",\n",
    "    \"team2-1-shooting-guard\",\n",
    "    \"team2-1-small-forward\",\n",
    "    \"team2-1-center\",\n",
    "\n",
    "    \"team2-1-power-forward-exp\",\n",
    "    \"team2-1-point-guard-exp\",\n",
    "    \"team2-1-shooting-guard-exp\",\n",
    "    \"team2-1-small-forward-exp\",\n",
    "    \"team2-1-center-exp\",\n",
    "\n",
    "    \"team2-2-power-forward\",\n",
    "    \"team2-2-point-guard\",\n",
    "    \"team2-2-shooting-guard\",\n",
    "    \"team2-2-small-forward\",\n",
    "    \"team2-2-center\",\n",
    "\n",
    "    \"team2-2-power-forward-exp\",\n",
    "    \"team2-2-point-guard-exp\",\n",
    "    \"team2-2-shooting-guard-exp\",\n",
    "    \"team2-2-small-forward-exp\",\n",
    "    \"team2-2-center-exp\"\n",
    "]"
   ]
  },
  {
   "cell_type": "code",
   "execution_count": null,
   "metadata": {},
   "outputs": [],
   "source": [
    "win_loss_df = win_loss_df.drop(columns=['win_lose', 'min', 'fgm', 'fga', 'fg_perc', '3pm', '3pa', '3p_perc', 'ftm', 'fta', 'ft_perc', 'oreb', 'dreb', 'reb', 'ast', 'stl', 'blk', 'tov', 'pg', 'plus_minus'])"
   ]
  },
  {
   "cell_type": "code",
   "execution_count": null,
   "metadata": {},
   "outputs": [],
   "source": [
    "for col in col_name:\n",
    "    win_loss_df[col] = \"Null\""
   ]
  },
  {
   "cell_type": "code",
   "execution_count": null,
   "metadata": {},
   "outputs": [],
   "source": [
    "for x in range(0,len(win_loss_df[\"match_up\"])):\n",
    "    win_loss_df[\"match_up\"][x] = win_loss_df[\"match_up\"].str.split(\" \")[x][-1]"
   ]
  },
  {
   "cell_type": "code",
   "execution_count": null,
   "metadata": {},
   "outputs": [],
   "source": [
    "for x in range(0,len(win_loss_df[\"game_date\"])):\n",
    "    win_loss_df[\"game_date\"][x] = win_loss_df[\"game_date\"].astype(str).str.split(\"-\")[x][0]"
   ]
  },
  {
   "cell_type": "code",
   "execution_count": null,
   "metadata": {},
   "outputs": [],
   "source": [
    "win_loss_df[\"team2\"] = win_loss_df[\"match_up\"]\n",
    "win_loss_df = win_loss_df.drop(columns=[\"match_up\"])\n"
   ]
  },
  {
   "cell_type": "code",
   "execution_count": null,
   "metadata": {
    "scrolled": false
   },
   "outputs": [],
   "source": [
    "win_loss_df[\"team1\"] = win_loss_df[\"team\"]\n",
    "win_loss_df = win_loss_df.drop(columns=[\"team\"])\n",
    "# win_loss_df"
   ]
  },
  {
   "cell_type": "code",
   "execution_count": null,
   "metadata": {},
   "outputs": [],
   "source": [
    "# win_loss_df.info()"
   ]
  },
  {
   "cell_type": "code",
   "execution_count": null,
   "metadata": {},
   "outputs": [],
   "source": [
    "# ! ls ../../Data/\n"
   ]
  },
  {
   "cell_type": "code",
   "execution_count": null,
   "metadata": {},
   "outputs": [],
   "source": [
    "for year in years:\n",
    "    for team in teams:\n",
    "        if team == \"OKC\" and year in [str(x) for x in range(2001,2009)]:\n",
    "            team1 = \"SEA\"\n",
    "            year_team[(year,team1)] = year_team[(year,team1)][year_team[(year,team1)][\"rank\"] != \"Null\"]\n",
    "        elif team == \"NOH\" and year not in [\"2003\", \"2004\", \"2005\", \"2008\", \"2009\", \"2010\", \"2011\", \"2012\", \"2013\"]:\n",
    "            try:\n",
    "                if year in [\"2006\", \"2007\"]:\n",
    "                    team1 = \"NOK\"\n",
    "                    year_team[(year,team1)] = year_team[(year,team1)][year_team[(year,team1)][\"rank\"] != \"Null\"]\n",
    "                else:\n",
    "                    team1 = \"NOP\"\n",
    "                    year_team[(year,team1)] = year_team[(year,team1)][year_team[(year,team1)][\"rank\"] != \"Null\"]\n",
    "            except:\n",
    "                pass\n",
    "        \n",
    "        elif team == \"MEM\" and year == \"2001\":\n",
    "            team1 = \"VAN\"\n",
    "            year_team[(year,team1)] = year_team[(year,team1)][year_team[(year,team1)][\"rank\"] != \"Null\"]\n",
    "        elif team == \"CHA\" and (year in [\"2001\", \"2002\", \"2003\", \"2004\"] or year in [str(x) for x in range(2015,2023)]):\n",
    "            try:\n",
    "                if year in [str(x) for x in range(2015,2023)]:\n",
    "                    team1 = \"CHO\"\n",
    "                    year_team[(year,team1)] = year_team[(year,team1)][year_team[(year,team1)][\"rank\"] != \"Null\"]\n",
    "            except:\n",
    "                pass \n",
    "            try:\n",
    "                if year in [\"2001\", \"2002\"]:\n",
    "                    team1 = \"CHH\"\n",
    "                    year_team[(year,team1)] = year_team[(year,team1)][year_team[(year,team1)][\"rank\"] != \"Null\"]\n",
    "            except:\n",
    "                pass\n",
    "        \n",
    "        elif team == \"NJN\" and year in [str(x) for x in range(2013,2023)]:\n",
    "            team1 = \"BRK\"\n",
    "            year_team[(year,team1)] = year_team[(year,team1)][year_team[(year,team1)][\"rank\"] != \"Null\"]\n",
    "        else:\n",
    "            year_team[(year,team)] = year_team[(year,team)][year_team[(year,team)][\"rank\"] != \"Null\"]"
   ]
  },
  {
   "cell_type": "code",
   "execution_count": null,
   "metadata": {},
   "outputs": [],
   "source": [
    "import pickle\n",
    "\n",
    "# save\n",
    "with open('../../Data/year_team.pickle', 'wb') as handle:\n",
    "    pickle.dump(year_team, handle, protocol=pickle.HIGHEST_PROTOCOL)\n",
    "# save\n",
    "with open('../../Data/year_position.pickle', 'wb') as handle:\n",
    "    pickle.dump(year_position, handle, protocol=pickle.HIGHEST_PROTOCOL)\n",
    "    \n",
    "# with open('filename.pickle', 'rb') as handle:\n",
    "#     b = pickle.load(handle)\n",
    "\n",
    "# print(a == b)"
   ]
  },
  {
   "cell_type": "code",
   "execution_count": null,
   "metadata": {},
   "outputs": [],
   "source": []
  },
  {
   "cell_type": "code",
   "execution_count": null,
   "metadata": {},
   "outputs": [],
   "source": []
  },
  {
   "cell_type": "code",
   "execution_count": null,
   "metadata": {},
   "outputs": [],
   "source": []
  },
  {
   "cell_type": "code",
   "execution_count": null,
   "metadata": {},
   "outputs": [],
   "source": [
    "\n"
   ]
  },
  {
   "cell_type": "code",
   "execution_count": null,
   "metadata": {},
   "outputs": [],
   "source": []
  }
 ],
 "metadata": {
  "kernelspec": {
   "display_name": "Python (learn-env)",
   "language": "python",
   "name": "learn-env"
  },
  "language_info": {
   "codemirror_mode": {
    "name": "ipython",
    "version": 3
   },
   "file_extension": ".py",
   "mimetype": "text/x-python",
   "name": "python",
   "nbconvert_exporter": "python",
   "pygments_lexer": "ipython3",
   "version": "3.8.5"
  }
 },
 "nbformat": 4,
 "nbformat_minor": 4
}
