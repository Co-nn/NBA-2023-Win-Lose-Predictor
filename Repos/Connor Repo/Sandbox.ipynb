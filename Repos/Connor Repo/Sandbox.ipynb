{
 "cells": [
  {
   "cell_type": "code",
   "execution_count": null,
   "metadata": {},
   "outputs": [],
   "source": [
    "import pickle\n",
    "import pandas as pd\n",
    "import requests\n",
    "\n",
    "with open('../../Data/year_team.pickle', 'rb') as handle:\n",
    "    year_team = pickle.load(handle)\n",
    "with open('../../Data/year_position.pickle', 'rb') as handle:\n",
    "    year_position = pickle.load(handle)\n",
    "import warnings"
   ]
  },
  {
   "cell_type": "code",
   "execution_count": null,
   "metadata": {},
   "outputs": [],
   "source": [
    "# ! ls ../../Data/"
   ]
  },
  {
   "cell_type": "code",
   "execution_count": null,
   "metadata": {},
   "outputs": [],
   "source": [
    "warnings.filterwarnings(action=\"ignore\")"
   ]
  },
  {
   "cell_type": "code",
   "execution_count": null,
   "metadata": {},
   "outputs": [],
   "source": [
    "positions = [\n",
    "    \"power-forward\",\n",
    "    \"point-guard\",\n",
    "    \"shooting-guard\",\n",
    "    \"small-forward\",\n",
    "    \"center\"\n",
    "]\n",
    "years = [str(x) for x in range(2001,2023)]\n",
    "teams = [\n",
    "    \"ATL\",\n",
    "    \"BOS\",\n",
    "    \"WAS\",\n",
    "    \"UTA\",\n",
    "    \"TOR\",\n",
    "    \"SAS\",\n",
    "    \"SAC\",\n",
    "    \"POR\",\n",
    "    \"PHO\",\n",
    "    \"PHI\",\n",
    "    \"ORL\",\n",
    "    \"OKC\",\n",
    "    \"NYK\",\n",
    "    \"NOH\",\n",
    "    \"MIN\",\n",
    "    \"MIL\",\n",
    "    \"MIA\",\n",
    "    \"MEM\",\n",
    "    \"LAL\",\n",
    "    \"LAC\",\n",
    "    \"IND\",\n",
    "    \"HOU\",\n",
    "    \"GSW\",\n",
    "    \"DET\",\n",
    "    \"DEN\",\n",
    "    \"DAL\",\n",
    "    \"CLE\",\n",
    "    \"CHI\",\n",
    "    \"CHA\",\n",
    "    \"NJN\"\n",
    "]\n",
    "col_name = [\n",
    "    \"team1-1-power-forward\",\n",
    "    \"team1-1-point-guard\",\n",
    "    \"team1-1-shooting-guard\",\n",
    "    \"team1-1-small-forward\",\n",
    "    \"team1-1-center\",\n",
    "\n",
    "    \"team1-1-power-forward-exp\",\n",
    "    \"team1-1-point-guard-exp\",\n",
    "    \"team1-1-shooting-guard-exp\",\n",
    "    \"team1-1-small-forward-exp\",\n",
    "    \"team1-1-center-exp\",\n",
    "\n",
    "    \"team1-2-power-forward\",\n",
    "    \"team1-2-point-guard\",\n",
    "    \"team1-2-shooting-guard\",\n",
    "    \"team1-2-small-forward\",\n",
    "    \"team1-2-center\",\n",
    "\n",
    "    \"team1-2-power-forward-exp\",\n",
    "    \"team1-2-point-guard-exp\",\n",
    "    \"team1-2-shooting-guard-exp\",\n",
    "    \"team1-2-small-forward-exp\",\n",
    "    \"team1-2-center-exp\",\n",
    "\n",
    "    \"team2-1-power-forward\",\n",
    "    \"team2-1-point-guard\",\n",
    "    \"team2-1-shooting-guard\",\n",
    "    \"team2-1-small-forward\",\n",
    "    \"team2-1-center\",\n",
    "\n",
    "    \"team2-1-power-forward-exp\",\n",
    "    \"team2-1-point-guard-exp\",\n",
    "    \"team2-1-shooting-guard-exp\",\n",
    "    \"team2-1-small-forward-exp\",\n",
    "    \"team2-1-center-exp\",\n",
    "\n",
    "    \"team2-2-power-forward\",\n",
    "    \"team2-2-point-guard\",\n",
    "    \"team2-2-shooting-guard\",\n",
    "    \"team2-2-small-forward\",\n",
    "    \"team2-2-center\",\n",
    "\n",
    "    \"team2-2-power-forward-exp\",\n",
    "    \"team2-2-point-guard-exp\",\n",
    "    \"team2-2-shooting-guard-exp\",\n",
    "    \"team2-2-small-forward-exp\",\n",
    "    \"team2-2-center-exp\"\n",
    "]"
   ]
  },
  {
   "cell_type": "code",
   "execution_count": null,
   "metadata": {},
   "outputs": [],
   "source": [
    "win_loss_df = pd.read_excel(\"../../Data/NBA Win-Loss.xlsx\")\n",
    "win_loss_df = win_loss_df.drop(columns=['win_lose', 'min', 'fgm', 'fga', 'fg_perc', '3pm', '3pa', '3p_perc', 'ftm', 'fta', 'ft_perc', 'oreb', 'dreb', 'reb', 'ast', 'stl', 'blk', 'tov', 'pg', 'plus_minus'])\n",
    "for col in col_name:\n",
    "    win_loss_df[col] = \"Null\"\n",
    "for x in range(0,len(win_loss_df[\"match_up\"])):\n",
    "    win_loss_df[\"match_up\"][x] = win_loss_df[\"match_up\"].str.split(\" \")[x][-1]\n",
    "for x in range(0,len(win_loss_df[\"game_date\"])):\n",
    "    win_loss_df[\"game_date\"][x] = win_loss_df[\"game_date\"].astype(str).str.split(\"-\")[x][0]\n",
    "win_loss_df[\"team2\"] = win_loss_df[\"match_up\"]\n",
    "win_loss_df = win_loss_df.drop(columns=[\"match_up\"])\n",
    "win_loss_df[\"team1\"] = win_loss_df[\"team\"]\n",
    "win_loss_df = win_loss_df.drop(columns=[\"team\"])\n",
    "    "
   ]
  },
  {
   "cell_type": "code",
   "execution_count": null,
   "metadata": {},
   "outputs": [],
   "source": [
    "# win_loss_df[win_loss_df[\"game_date\"]==\"2019\"]"
   ]
  },
  {
   "cell_type": "code",
   "execution_count": null,
   "metadata": {},
   "outputs": [],
   "source": [
    "# win_loss_df.to_excel(\"../../Data/win_loss_df.xlsx\")\n"
   ]
  },
  {
   "cell_type": "code",
   "execution_count": null,
   "metadata": {},
   "outputs": [],
   "source": [
    "# win_loss_df"
   ]
  },
  {
   "cell_type": "code",
   "execution_count": null,
   "metadata": {},
   "outputs": [],
   "source": [
    "# win_loss_df[win_loss_df[\"game_date\"] == \"2019\"]"
   ]
  },
  {
   "cell_type": "code",
   "execution_count": null,
   "metadata": {},
   "outputs": [],
   "source": [
    "# teams"
   ]
  },
  {
   "cell_type": "code",
   "execution_count": null,
   "metadata": {},
   "outputs": [],
   "source": [
    "# win_loss_df.info()"
   ]
  },
  {
   "cell_type": "code",
   "execution_count": null,
   "metadata": {},
   "outputs": [],
   "source": [
    "# year_team[(year,\"CHA\")]"
   ]
  },
  {
   "cell_type": "code",
   "execution_count": null,
   "metadata": {},
   "outputs": [],
   "source": [
    "# win_loss_df[win_loss_df[\"team2-1-point-guard\"] == \"Null\"][\"team2\"].unique()"
   ]
  },
  {
   "cell_type": "code",
   "execution_count": null,
   "metadata": {},
   "outputs": [],
   "source": [
    "# win_loss_df[win_loss_df[\"team1-1-point-guard\"] == \"Null\"][\"team1\"].unique()"
   ]
  },
  {
   "cell_type": "code",
   "execution_count": null,
   "metadata": {},
   "outputs": [],
   "source": [
    "# Testing Code\n"
   ]
  },
  {
   "cell_type": "code",
   "execution_count": null,
   "metadata": {},
   "outputs": [],
   "source": []
  },
  {
   "cell_type": "code",
   "execution_count": null,
   "metadata": {},
   "outputs": [],
   "source": []
  },
  {
   "cell_type": "code",
   "execution_count": null,
   "metadata": {},
   "outputs": [],
   "source": [
    "# # Working Code\n",
    "# class PositionRanking:\n",
    "#     def __init__(self):\n",
    "#         self"
   ]
  },
  {
   "cell_type": "code",
   "execution_count": null,
   "metadata": {},
   "outputs": [],
   "source": [
    "def positionRankDF(year_team_dict, year, team, position):\n",
    "    rank_list = []\n",
    "    exp_list = []\n",
    "    #check each row in year_team_dict if position is position\n",
    "    for row in year_team_dict[(year,team)].index:\n",
    "        if position == year_team_dict[(year,team)][\"Pos\"][row]:\n",
    "            rank_list.append(year_team_dict[(year,team)][\"rank\"][row])\n",
    "            exp_list.append(year_team_dict[(year,team)][\"Exp\"][row])\n",
    "    #creates rank pd\n",
    "    rank_exp_pd = pd.DataFrame({\"rank\":rank_list,\"exp\":exp_list})\n",
    "    #ranks rank pd\n",
    "    rank_exp_pd.sort_values(by=\"rank\")\n",
    "    return rank_exp_pd"
   ]
  },
  {
   "cell_type": "code",
   "execution_count": null,
   "metadata": {},
   "outputs": [],
   "source": [
    "def positionRankDFFilter(year_team_dict, year, team, position):\n",
    "    #rank lists/exp lists\n",
    "    if team == \"PHX\":\n",
    "        team1 = \"PHO\"\n",
    "        return positionRankDF(year_team_dict=year_team_dict, year=year, team=team1, position=position)\n",
    "    elif team == \"BKN\":\n",
    "        team1 = \"BRK\"\n",
    "        return positionRankDF(year_team_dict=year_team_dict, year=year, team=team1, position=position)\n",
    "#     elif team == \"CHA\":\n",
    "#         team1 = \"CHO\"\n",
    "#         return positionRankDF(year_team_dict=year_team_dict, year=year, team=team1, position=position)\n",
    "    else:\n",
    "        return positionRankDF(year_team_dict, year, team, position)"
   ]
  },
  {
   "cell_type": "code",
   "execution_count": null,
   "metadata": {},
   "outputs": [],
   "source": []
  },
  {
   "cell_type": "code",
   "execution_count": null,
   "metadata": {},
   "outputs": [],
   "source": [
    "def positionRanker(year, team, position, rank_exp_pd, year_team_dict):\n",
    "    for num in range(1,3):\n",
    "        for pd_row in win_loss_df.index:\n",
    "            if team == win_loss_df[\"team\"+str(num)][pd_row]:\n",
    "                if year == win_loss_df[\"game_date\"][pd_row]:\n",
    "#                     print(year_team_dict[(year,team)], position)\n",
    "                    try:\n",
    "                        # trys main position to give rank and exp\n",
    "                        win_loss_df[\"team\"+str(num)+\"-1-\"+position][pd_row] = rank_exp_pd[\"rank\"][0]\n",
    "                        win_loss_df[\"team\"+str(num)+\"-1-\"+position+\"-exp\"][pd_row] = rank_exp_pd[\"exp\"][0]\n",
    "                    except:\n",
    "                        for position1 in positions:\n",
    "                            try:\n",
    "                                #trys different positions to grab from if there are not 1 of main positions\n",
    "                                rank_exp_pd1 = positionRankDFFilter(year_team_dict=year_team_dict, year=year, team=team, position=position1)\n",
    "                                win_loss_df[\"team\"+str(num)+\"-1-\"+position][pd_row] = rank_exp_pd1[\"rank\"][2]\n",
    "                                win_loss_df[\"team\"+str(num)+\"-1-\"+position+\"-exp\"][pd_row] = rank_exp_pd1[\"exp\"][2]\n",
    "                                print(\"1 Success\",position1,position)\n",
    "                                break\n",
    "                            except:\n",
    "                                print(\"1 Fail\",position1,position)\n",
    "                    try:\n",
    "                        # trys main position to give rank and exp\n",
    "                        win_loss_df[\"team\"+str(num)+\"-2-\"+position][pd_row] = rank_exp_pd[\"rank\"][1]\n",
    "                        win_loss_df[\"team\"+str(num)+\"-2-\"+position+\"-exp\"][pd_row] = rank_exp_pd[\"exp\"][1]\n",
    "                    except:\n",
    "                        #trys different positions to grab from if there are not 2 of main positions\n",
    "                        for position1 in positions:\n",
    "                            try:\n",
    "                                rank_exp_pd1 = positionRankDFFilter(year_team_dict=year_team_dict, year=year, team=team, position=position1)\n",
    "                                win_loss_df[\"team\"+str(num)+\"-2-\"+position][pd_row] = rank_exp_pd1[\"rank\"][2]\n",
    "                                win_loss_df[\"team\"+str(num)+\"-2-\"+position+\"-exp\"][pd_row] = rank_exp_pd1[\"exp\"][2]\n",
    "                                print(\"2 Success\",position1,position)\n",
    "                                break\n",
    "                            except:\n",
    "                                print(\"2 Fail\",position1,position)"
   ]
  },
  {
   "cell_type": "code",
   "execution_count": null,
   "metadata": {},
   "outputs": [],
   "source": [
    "def fullPositionRanker(year_team_dict, year, team, position):\n",
    "    rank_exp_pd = positionRankDFFilter(year_team_dict=year_team_dict, year=year, team=team, position=position)\n",
    "    if team == \"PHO\":\n",
    "        team1 = \"PHX\"\n",
    "        positionRanker(year=year, team=team1, position=position, rank_exp_pd=rank_exp_pd, year_team_dict=year_team)\n",
    "    elif team == \"BRK\":\n",
    "        team1 = \"BKN\"\n",
    "        positionRanker(year=year, team=team1, position=position, rank_exp_pd=rank_exp_pd, year_team_dict=year_team)\n",
    "    elif team == \"CHO\":\n",
    "        team1 = \"CHA\"\n",
    "        positionRanker(year=year, team=team1, position=position, rank_exp_pd=rank_exp_pd, year_team_dict=year_team)\n",
    "    else:\n",
    "        positionRanker(year=year, team=team, position=position, rank_exp_pd=rank_exp_pd, year_team_dict=year_team)\n",
    "    "
   ]
  },
  {
   "cell_type": "code",
   "execution_count": null,
   "metadata": {},
   "outputs": [],
   "source": []
  },
  {
   "cell_type": "code",
   "execution_count": null,
   "metadata": {},
   "outputs": [],
   "source": [
    "# iterates through year and team to cycle through year_team data frames\n",
    "for year in years:\n",
    "    for team in teams:\n",
    "        print(\"1\")\n",
    "        # iterates through position to grab different positions in year_team[(year,team)] data frame\n",
    "        for position in positions:\n",
    "            print(\"2\")\n",
    "            # outer if, elif, else chain takes into acount team name change\n",
    "            if team == \"OKC\" and year in [str(x) for x in range(2001,2009)]:\n",
    "                team1 = \"SEA\"\n",
    "                print(\"3\")\n",
    "                # cycles through year_team[(year,team1)] to fin players of certain positions to rank them\n",
    "                fullPositionRanker(year_team_dict=year_team, year=year, team=team1, position=position)\n",
    "            #Team name change NOH\n",
    "            elif team == \"NOH\" and year not in [\"2003\", \"2004\", \"2005\", \"2008\", \"2009\", \"2010\", \"2011\", \"2012\", \"2013\"]:\n",
    "                try:\n",
    "                    if year in [\"2006\", \"2007\"]:\n",
    "                        team1 = \"NOK\"\n",
    "                        print(\"4.1\")\n",
    "                        fullPositionRanker(year_team_dict=year_team, year=year, team=team1, position=position)\n",
    "                    else:\n",
    "                        team1 = \"NOP\"\n",
    "                        print(\"4.2\")\n",
    "                        fullPositionRanker(year_team_dict=year_team, year=year, team=team1, position=position)\n",
    "                except:\n",
    "                    pass\n",
    "            #Team name change MEM\n",
    "            elif team == \"MEM\" and year == \"2001\":\n",
    "                team1 = \"VAN\"\n",
    "                print(\"5\")\n",
    "                fullPositionRanker(year_team_dict=year_team, year=year, team=team1, position=position)\n",
    "            #Team name change CHA\n",
    "            elif team == \"CHA\" and (year in [\"2001\", \"2002\", \"2003\", \"2004\"] or year in [str(x) for x in range(2015,2023)]):\n",
    "                try:\n",
    "                    if year in [str(x) for x in range(2015,2023)]:\n",
    "                        team1 = \"CHO\"\n",
    "                        print(\"6.1\")\n",
    "                        fullPositionRanker(year_team_dict=year_team, year=year, team=team1, position=position)\n",
    "                except:\n",
    "                    pass \n",
    "                try:\n",
    "                    if year in [\"2001\", \"2002\"]:\n",
    "                        team1 = \"CHH\"\n",
    "                        print(\"6.2\")\n",
    "                        fullPositionRanker(year_team_dict=year_team, year=year, team=team1, position=position)\n",
    "                except:\n",
    "                    pass\n",
    "            #Team name change NJN\n",
    "            elif team == \"NJN\" and year in [str(x) for x in range(2013,2023)]:\n",
    "                team1 = \"BRK\"\n",
    "                print(\"7\")\n",
    "                fullPositionRanker(year_team_dict=year_team, year=year, team=team1, position=position)\n",
    "            else:\n",
    "                print(\"8\")\n",
    "                fullPositionRanker(year_team_dict=year_team, year=year, team=team, position=position)\n",
    "            print(year,team)"
   ]
  },
  {
   "cell_type": "code",
   "execution_count": null,
   "metadata": {},
   "outputs": [],
   "source": [
    "for x in range(1,3):\n",
    "    for position in positions:\n",
    "        print(x,position)\n",
    "        print(win_loss_df[win_loss_df[\"team2-\"+str(x)+\"-\"+position] == \"Null\"][\"team2\"].unique())\n",
    "\n",
    "for x in range(1,3):\n",
    "    for position in positions:\n",
    "        print(x,position)\n",
    "        print(win_loss_df[win_loss_df[\"team1-\"+str(x)+\"-\"+position] == \"Null\"][\"team1\"].unique())\n"
   ]
  },
  {
   "cell_type": "code",
   "execution_count": null,
   "metadata": {},
   "outputs": [],
   "source": []
  },
  {
   "cell_type": "code",
   "execution_count": null,
   "metadata": {},
   "outputs": [],
   "source": [
    "win_loss_df[(win_loss_df[\"team1-2-center\"] == \"Null\")&(win_loss_df[\"team1\"] == \"NYK\")]"
   ]
  },
  {
   "cell_type": "code",
   "execution_count": null,
   "metadata": {},
   "outputs": [],
   "source": [
    "win_loss_df[(win_loss_df[\"team1\"] == \"CHO\")]"
   ]
  },
  {
   "cell_type": "code",
   "execution_count": null,
   "metadata": {},
   "outputs": [],
   "source": [
    "for year in years:\n",
    "    for team in teams:\n",
    "        try:\n",
    "            if len(year_team[(year,team)]) < 9:\n",
    "                print(year,team)\n",
    "        except:\n",
    "            pass"
   ]
  },
  {
   "cell_type": "code",
   "execution_count": null,
   "metadata": {},
   "outputs": [],
   "source": [
    "year_team[(\"2012\",\"NYK\")]"
   ]
  },
  {
   "cell_type": "code",
   "execution_count": null,
   "metadata": {},
   "outputs": [],
   "source": [
    "# win_loss_df[(win_loss_df[\"team1\"] == \"SAS\") & (win_loss_df[\"team1-1-power-forward\"] == \"Null\")]"
   ]
  },
  {
   "cell_type": "code",
   "execution_count": null,
   "metadata": {},
   "outputs": [],
   "source": [
    "win_loss_df[win_loss_df[\"team2-1-point-guard\"] == \"Null\"]"
   ]
  },
  {
   "cell_type": "code",
   "execution_count": null,
   "metadata": {},
   "outputs": [],
   "source": []
  },
  {
   "cell_type": "code",
   "execution_count": null,
   "metadata": {},
   "outputs": [],
   "source": []
  }
 ],
 "metadata": {
  "kernelspec": {
   "display_name": "Python (learn-env)",
   "language": "python",
   "name": "learn-env"
  },
  "language_info": {
   "codemirror_mode": {
    "name": "ipython",
    "version": 3
   },
   "file_extension": ".py",
   "mimetype": "text/x-python",
   "name": "python",
   "nbconvert_exporter": "python",
   "pygments_lexer": "ipython3",
   "version": "3.8.5"
  }
 },
 "nbformat": 4,
 "nbformat_minor": 4
}
